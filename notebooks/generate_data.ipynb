{
 "cells": [
  {
   "cell_type": "code",
   "execution_count": 6,
   "metadata": {},
   "outputs": [],
   "source": [
    "import sys\n",
    "import os\n",
    "\n",
    "# Add the 'src' directory to the Python path\n",
    "project_dir = os.path.dirname(os.path.dirname(os.path.abspath('generate_data.ipynb')))\n",
    "src_path = os.path.join(project_dir, 'src')\n",
    "sys.path.append(src_path)\n",
    "\n",
    "# Now you can import the data module\n",
    "from data import get_data, preprocess\n",
    "import numpy as np\n",
    "from sklearn.metrics import mean_squared_error"
   ]
  },
  {
   "cell_type": "markdown",
   "metadata": {},
   "source": [
    "# Generate Data\n",
    "\n",
    "We will generate some data using the get_data function from data.py"
   ]
  },
  {
   "cell_type": "code",
   "execution_count": 15,
   "metadata": {},
   "outputs": [],
   "source": [
    "def regression_function(x):\n",
    "    return np.exp(np.linalg.norm(x, ord=2, axis=1))\n",
    "\n",
    "# Generate trsin, test and validation data\n",
    "def generate_data(n_samples, sigma):\n",
    "    # Generate the data\n",
    "    mse = []\n",
    "    for i in range(50):\n",
    "        X, y = get_data(regression_function,\n",
    "                        n_features=7,\n",
    "                        n_samples=n_samples,\n",
    "                        sigma=sigma,\n",
    "                        omega=1.64,\n",
    "                        seed=i)\n",
    "        \n",
    "        X_train, y_train, X_test, y_test = preprocess(X,y)\n",
    "    \n",
    "        X_val, y_val = get_data(regression_function,\n",
    "                                n_features=7,\n",
    "                                n_samples=10**5,\n",
    "                                sigma=sigma,\n",
    "                                omega=0.,\n",
    "                                seed=i+50)\n",
    "        \n",
    "        y_avg = np.mean(y)\n",
    "        error = mean_squared_error(regression_function(X), y_avg*np.ones(y.shape))\n",
    "        mse.append(error)\n",
    "\n",
    "        np.savez(os.path.join(project_dir, f'data/data_sigma{sigma}_samples{n_samples}_{i}.npz'),\n",
    "                 X_train=X_train,\n",
    "                 y_train=y_train,\n",
    "                 X_test=X_test,\n",
    "                 y_test=y_test,\n",
    "                 X_val=X_val,\n",
    "                 y_val=y_val)\n",
    "        \n",
    "    error_scaler = np.mean(mse)\n",
    "    np.savez(os.path.join(project_dir, f'data/error_scaler_sigma{sigma}_samples{n_samples}.npz'),\n",
    "             error_scaler=error_scaler)"
   ]
  },
  {
   "cell_type": "code",
   "execution_count": 16,
   "metadata": {},
   "outputs": [],
   "source": [
    "generate_data(100, 0.05)\n",
    "generate_data(100, 0.2)\n",
    "generate_data(200, 0.05)\n",
    "generate_data(200, 0.2)"
   ]
  }
 ],
 "metadata": {
  "kernelspec": {
   "display_name": "py4ds",
   "language": "python",
   "name": "python3"
  },
  "language_info": {
   "codemirror_mode": {
    "name": "ipython",
    "version": 3
   },
   "file_extension": ".py",
   "mimetype": "text/x-python",
   "name": "python",
   "nbconvert_exporter": "python",
   "pygments_lexer": "ipython3",
   "version": "3.10.13"
  }
 },
 "nbformat": 4,
 "nbformat_minor": 2
}
